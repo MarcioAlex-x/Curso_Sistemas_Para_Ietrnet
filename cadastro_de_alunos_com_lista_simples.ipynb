{
  "nbformat": 4,
  "nbformat_minor": 0,
  "metadata": {
    "colab": {
      "provenance": [],
      "authorship_tag": "ABX9TyNSW+LZleQcZ4/+yyjj1cU5",
      "include_colab_link": true
    },
    "kernelspec": {
      "name": "python3",
      "display_name": "Python 3"
    },
    "language_info": {
      "name": "python"
    }
  },
  "cells": [
    {
      "cell_type": "markdown",
      "metadata": {
        "id": "view-in-github",
        "colab_type": "text"
      },
      "source": [
        "<a href=\"https://colab.research.google.com/github/MarcioAlex-x/Curso_Sistemas_Para_Ietrnet/blob/master/cadastro_de_alunos_com_lista_simples.ipynb\" target=\"_parent\"><img src=\"https://colab.research.google.com/assets/colab-badge.svg\" alt=\"Open In Colab\"/></a>"
      ]
    },
    {
      "cell_type": "code",
      "execution_count": 41,
      "metadata": {
        "id": "_BsD5pRfO27I",
        "colab": {
          "base_uri": "https://localhost:8080/"
        },
        "outputId": "0581d12f-59c3-4973-c453-910e3bf02fd9"
      },
      "outputs": [
        {
          "name": "stdout",
          "output_type": "stream",
          "text": [
            "Opção 1: Cadastrar aluno(a)\n",
            "Opção 2: Atualizar de aluno(a)\n",
            "Opção 3: Excluir de cadastro de aluno(a)\n",
            "Opção 4: Pesquisar aluno(a)\n",
            "Opção 5: Ver lista de aluno(a)s cadastrado(a)s\n",
            "Opção 6: Sair \n",
            "O que deseja fazer agora? 2\n",
            "Informe o nome do aluno que receberá a atualização!ana\n",
            "Atualize ANA!maria\n",
            "MARIA atualizado com sucesso!\n",
            "Tecle ENTER para continuar! 3\n",
            "Opção 1: Cadastrar aluno(a)\n",
            "Opção 2: Atualizar de aluno(a)\n",
            "Opção 3: Excluir de cadastro de aluno(a)\n",
            "Opção 4: Pesquisar aluno(a)\n",
            "Opção 5: Ver lista de aluno(a)s cadastrado(a)s\n",
            "Opção 6: Sair \n",
            "O que deseja fazer agora? 3\n",
            "Informe o nome do aluno que será excluído da lista!mario\n",
            "Aluno excluido com sucesso.\n",
            "Tecle ENTER para continuar! \n",
            "Opção 1: Cadastrar aluno(a)\n",
            "Opção 2: Atualizar de aluno(a)\n",
            "Opção 3: Excluir de cadastro de aluno(a)\n",
            "Opção 4: Pesquisar aluno(a)\n",
            "Opção 5: Ver lista de aluno(a)s cadastrado(a)s\n",
            "Opção 6: Sair \n",
            "O que deseja fazer agora? 4\n",
            "Digite o nome do aluno que está procurando: maria\n",
            "MARIA está registrado com o índice 1\n",
            "Tecle ENTER para continuar! \n",
            "Opção 1: Cadastrar aluno(a)\n",
            "Opção 2: Atualizar de aluno(a)\n",
            "Opção 3: Excluir de cadastro de aluno(a)\n",
            "Opção 4: Pesquisar aluno(a)\n",
            "Opção 5: Ver lista de aluno(a)s cadastrado(a)s\n",
            "Opção 6: Sair \n",
            "O que deseja fazer agora? 5\n",
            "['SARA', 'MARIA']\n",
            "Tecle ENTER para continuar! \n",
            "Opção 1: Cadastrar aluno(a)\n",
            "Opção 2: Atualizar de aluno(a)\n",
            "Opção 3: Excluir de cadastro de aluno(a)\n",
            "Opção 4: Pesquisar aluno(a)\n",
            "Opção 5: Ver lista de aluno(a)s cadastrado(a)s\n",
            "Opção 6: Sair \n",
            "O que deseja fazer agora? 6\n"
          ]
        }
      ],
      "source": [
        "lista_alunos=['ANA','SARA', 'MARIO']\n",
        "while True:\n",
        "    \n",
        "    print('''Opção 1: Cadastrar aluno(a)\n",
        "Opção 2: Atualizar de aluno(a)\n",
        "Opção 3: Excluir de cadastro de aluno(a)\n",
        "Opção 4: Pesquisar aluno(a)\n",
        "Opção 5: Ver lista de aluno(a)s cadastrado(a)s\n",
        "Opção 6: Sair ''')\n",
        "    resposta = int(input('O que deseja fazer agora? '))\n",
        "    if resposta == 1:\n",
        "        aluno = input('Informe o nome do aluno: ').upper()\n",
        "        lista_alunos.append(aluno)\n",
        "        print(f'{aluno} inserido com sucesso!')\n",
        "        continuar = input('Tecle ENTER para continuar! ')\n",
        "    elif resposta == 2:\n",
        "        busca_aluno = input('Informe o nome do aluno que receberá a atualização!').upper()\n",
        "        if busca_aluno in lista_alunos:\n",
        "            att_aluno = input(f'Atualize {busca_aluno}!').upper()\n",
        "            i = lista_alunos.index(busca_aluno)\n",
        "            lista_alunos.pop(i)\n",
        "            lista_alunos.append(att_aluno)\n",
        "            print(f'{att_aluno} atualizado com sucesso!')\n",
        "            continuar = input('Tecle ENTER para continuar! ')\n",
        "        else:\n",
        "            print(f'{att_aluno} não encontrado!')\n",
        "            continuar = input('Tecle ENTER para continuar! ')\n",
        "    elif resposta == 3:\n",
        "        busca_aluno = input('Informe o nome do aluno que será excluído da lista!').upper()\n",
        "        if busca_aluno in lista_alunos:\n",
        "            i = lista_alunos.index(busca_aluno)\n",
        "            lista_alunos.pop(i)\n",
        "            print('Aluno excluido com sucesso.')\n",
        "            continuar = input('Tecle ENTER para continuar! ')\n",
        "        else:\n",
        "            print('Aluno não encontrado.') \n",
        "            continuar = input('Tecle ENTER para continuar! ')   \n",
        "    elif resposta == 4:\n",
        "        busca_aluno = input('Digite o nome do aluno que está procurando: ').upper()\n",
        "        if busca_aluno in lista_alunos:\n",
        "            print(f'{busca_aluno} está registrado com o índice {lista_alunos.index(busca_aluno)}')\n",
        "            continuar = input('Tecle ENTER para continuar! ') \n",
        "        else:\n",
        "            print(f'{busca_aluno} não está registrado.')  \n",
        "            continuar = input('Tecle ENTER para continuar! ')\n",
        "    elif resposta == 5:\n",
        "        print(f'Os alunos cadastrados são: {lista_alunos}')\n",
        "        continuar = input('Tecle ENTER para continuar! ') \n",
        "    elif resposta == 6:\n",
        "        break\n",
        "    else:\n",
        "        print('Você inserio um número que não está entre as opções')\n",
        "        continuar = input('Tecle ENTER para continuar! ')        \n",
        "\n"
      ]
    },
    {
      "cell_type": "code",
      "source": [
        "lista_alunos"
      ],
      "metadata": {
        "id": "v7KjuQh7Zi2z",
        "colab": {
          "base_uri": "https://localhost:8080/"
        },
        "outputId": "6b73101b-ec31-4e3e-9fd0-27b3ab8b3bc7"
      },
      "execution_count": 39,
      "outputs": [
        {
          "output_type": "execute_result",
          "data": {
            "text/plain": [
              "['SARA', 'MARIO']"
            ]
          },
          "metadata": {},
          "execution_count": 39
        }
      ]
    }
  ]
}